{
 "cells": [
  {
   "cell_type": "code",
   "execution_count": 2,
   "id": "c1bc2215",
   "metadata": {},
   "outputs": [
    {
     "name": "stdout",
     "output_type": "stream",
     "text": [
      "送料は無料です。\n",
      "送料込みの価格は2200円です。\n"
     ]
    }
   ],
   "source": [
    "price = int(input(\"税抜き価格を入力してください。：\"))\n",
    "price_with_tax = int(price + price * 0.1)\n",
    "if price_with_tax >= 2000:\n",
    "     print (\"送料は無料です。\")\n",
    "     print (f\"送料込みの価格は{price_with_tax}円です。\")\n",
    "else:\n",
    "    print (\"送料として350円かかります。\")\n",
    "    print (f\"送料込みの価格は{price_with_tax + 350}円です。\")"
   ]
  },
  {
   "cell_type": "code",
   "execution_count": null,
   "id": "2e2bd796",
   "metadata": {},
   "outputs": [],
   "source": []
  }
 ],
 "metadata": {
  "kernelspec": {
   "display_name": ".venv",
   "language": "python",
   "name": "python3"
  },
  "language_info": {
   "codemirror_mode": {
    "name": "ipython",
    "version": 3
   },
   "file_extension": ".py",
   "mimetype": "text/x-python",
   "name": "python",
   "nbconvert_exporter": "python",
   "pygments_lexer": "ipython3",
   "version": "3.12.10"
  }
 },
 "nbformat": 4,
 "nbformat_minor": 5
}
