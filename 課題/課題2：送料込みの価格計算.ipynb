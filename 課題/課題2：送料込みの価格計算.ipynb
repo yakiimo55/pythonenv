{
 "cells": [
  {
   "cell_type": "code",
   "execution_count": null,
   "id": "c1bc2215",
   "metadata": {},
   "outputs": [],
   "source": []
  }
 ],
 "metadata": {
  "kernelspec": {
   "display_name": ".venv",
   "language": "python",
   "name": "python3"
  },
  "language_info": {
   "name": "python",
   "version": "3.12.10"
  }
 },
 "nbformat": 4,
 "nbformat_minor": 5
}
