{
 "cells": [
  {
   "cell_type": "code",
   "execution_count": null,
   "id": "a004d917",
   "metadata": {},
   "outputs": [
    {
     "name": "stdout",
     "output_type": "stream",
     "text": [
      "5人のテストの平均点は80.0です\n"
     ]
    }
   ],
   "source": [
    "i = 0\n",
    "score_total = 0\n",
    "\n",
    "while True:\n",
    "    i += 1\n",
    "    score_new = int(input(\"得点を入力してください：\"))\n",
    "    score_total = score_total + score_new\n",
    "      \n",
    "    if score_new == -1:\n",
    "        break\n",
    "    \n",
    "\n",
    "average = (score_total + 1)  / (i -1)\n",
    "    \n",
    "print(f\"{i - 1}人のテストの平均点は{average:.1f}です\")"
   ]
  }
 ],
 "metadata": {
  "kernelspec": {
   "display_name": ".venv",
   "language": "python",
   "name": "python3"
  },
  "language_info": {
   "codemirror_mode": {
    "name": "ipython",
    "version": 3
   },
   "file_extension": ".py",
   "mimetype": "text/x-python",
   "name": "python",
   "nbconvert_exporter": "python",
   "pygments_lexer": "ipython3",
   "version": "3.12.10"
  }
 },
 "nbformat": 4,
 "nbformat_minor": 5
}
