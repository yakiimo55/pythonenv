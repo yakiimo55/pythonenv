{
 "cells": [
  {
   "cell_type": "code",
   "execution_count": null,
   "id": "c1bc2215",
   "metadata": {},
   "outputs": [
    {
     "name": "stdout",
     "output_type": "stream",
     "text": [
      "送料として350円かかります\n",
      "送料込みの価格は2550円です。\n"
     ]
    }
   ],
   "source": [
    "price = int(input(\"税抜き価格を入力してください。：\"))\n",
    "\n",
    "if price >= 2000:\n",
    "    total_price = int(price + price * 0.1)\n",
    "    print (\"送料は無料です。\")\n",
    "    print (f\"送料込みの価格は{total_price}円です。\")\n",
    "else:\n",
    "    print (\"送料として350円かかります。\")\n",
    "    print (f\"送料込みの価格は{total_price+350}円です。\")"
   ]
  },
  {
   "cell_type": "code",
   "execution_count": null,
   "id": "2e2bd796",
   "metadata": {},
   "outputs": [],
   "source": []
  }
 ],
 "metadata": {
  "kernelspec": {
   "display_name": ".venv",
   "language": "python",
   "name": "python3"
  },
  "language_info": {
   "codemirror_mode": {
    "name": "ipython",
    "version": 3
   },
   "file_extension": ".py",
   "mimetype": "text/x-python",
   "name": "python",
   "nbconvert_exporter": "python",
   "pygments_lexer": "ipython3",
   "version": "3.12.10"
  }
 },
 "nbformat": 4,
 "nbformat_minor": 5
}
